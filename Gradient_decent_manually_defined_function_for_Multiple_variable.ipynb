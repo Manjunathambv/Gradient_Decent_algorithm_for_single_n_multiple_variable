{
 "cells": [
  {
   "cell_type": "code",
   "execution_count": 1,
   "id": "1f16370f",
   "metadata": {},
   "outputs": [],
   "source": [
    "import pandas as pd\n",
    "import numpy as np\n"
   ]
  },
  {
   "cell_type": "code",
   "execution_count": 2,
   "id": "1177057b",
   "metadata": {},
   "outputs": [],
   "source": [
    "data = pd.read_csv(\"./data.csv\", header=None)"
   ]
  },
  {
   "cell_type": "code",
   "execution_count": 3,
   "id": "c03eaa9c",
   "metadata": {},
   "outputs": [],
   "source": [
    "data[\"0_0\"] = data[0] ** 2"
   ]
  },
  {
   "cell_type": "code",
   "execution_count": 4,
   "id": "66d7d361",
   "metadata": {},
   "outputs": [
    {
     "data": {
      "text/html": [
       "<div>\n",
       "<style scoped>\n",
       "    .dataframe tbody tr th:only-of-type {\n",
       "        vertical-align: middle;\n",
       "    }\n",
       "\n",
       "    .dataframe tbody tr th {\n",
       "        vertical-align: top;\n",
       "    }\n",
       "\n",
       "    .dataframe thead th {\n",
       "        text-align: right;\n",
       "    }\n",
       "</style>\n",
       "<table border=\"1\" class=\"dataframe\">\n",
       "  <thead>\n",
       "    <tr style=\"text-align: right;\">\n",
       "      <th></th>\n",
       "      <th>0</th>\n",
       "      <th>1</th>\n",
       "      <th>0_0</th>\n",
       "    </tr>\n",
       "  </thead>\n",
       "  <tbody>\n",
       "    <tr>\n",
       "      <th>0</th>\n",
       "      <td>32.502345</td>\n",
       "      <td>31.707006</td>\n",
       "      <td>1056.402448</td>\n",
       "    </tr>\n",
       "    <tr>\n",
       "      <th>1</th>\n",
       "      <td>53.426804</td>\n",
       "      <td>68.777596</td>\n",
       "      <td>2854.423389</td>\n",
       "    </tr>\n",
       "    <tr>\n",
       "      <th>2</th>\n",
       "      <td>61.530358</td>\n",
       "      <td>62.562382</td>\n",
       "      <td>3785.984959</td>\n",
       "    </tr>\n",
       "    <tr>\n",
       "      <th>3</th>\n",
       "      <td>47.475640</td>\n",
       "      <td>71.546632</td>\n",
       "      <td>2253.936359</td>\n",
       "    </tr>\n",
       "    <tr>\n",
       "      <th>4</th>\n",
       "      <td>59.813208</td>\n",
       "      <td>87.230925</td>\n",
       "      <td>3577.619836</td>\n",
       "    </tr>\n",
       "    <tr>\n",
       "      <th>...</th>\n",
       "      <td>...</td>\n",
       "      <td>...</td>\n",
       "      <td>...</td>\n",
       "    </tr>\n",
       "    <tr>\n",
       "      <th>95</th>\n",
       "      <td>50.030174</td>\n",
       "      <td>81.536991</td>\n",
       "      <td>2503.018345</td>\n",
       "    </tr>\n",
       "    <tr>\n",
       "      <th>96</th>\n",
       "      <td>49.239765</td>\n",
       "      <td>72.111832</td>\n",
       "      <td>2424.554491</td>\n",
       "    </tr>\n",
       "    <tr>\n",
       "      <th>97</th>\n",
       "      <td>50.039576</td>\n",
       "      <td>85.232007</td>\n",
       "      <td>2503.959160</td>\n",
       "    </tr>\n",
       "    <tr>\n",
       "      <th>98</th>\n",
       "      <td>48.149859</td>\n",
       "      <td>66.224958</td>\n",
       "      <td>2318.408911</td>\n",
       "    </tr>\n",
       "    <tr>\n",
       "      <th>99</th>\n",
       "      <td>25.128485</td>\n",
       "      <td>53.454394</td>\n",
       "      <td>631.440741</td>\n",
       "    </tr>\n",
       "  </tbody>\n",
       "</table>\n",
       "<p>100 rows × 3 columns</p>\n",
       "</div>"
      ],
      "text/plain": [
       "            0          1          0_0\n",
       "0   32.502345  31.707006  1056.402448\n",
       "1   53.426804  68.777596  2854.423389\n",
       "2   61.530358  62.562382  3785.984959\n",
       "3   47.475640  71.546632  2253.936359\n",
       "4   59.813208  87.230925  3577.619836\n",
       "..        ...        ...          ...\n",
       "95  50.030174  81.536991  2503.018345\n",
       "96  49.239765  72.111832  2424.554491\n",
       "97  50.039576  85.232007  2503.959160\n",
       "98  48.149859  66.224958  2318.408911\n",
       "99  25.128485  53.454394   631.440741\n",
       "\n",
       "[100 rows x 3 columns]"
      ]
     },
     "execution_count": 4,
     "metadata": {},
     "output_type": "execute_result"
    }
   ],
   "source": [
    "data"
   ]
  },
  {
   "cell_type": "code",
   "execution_count": 5,
   "id": "92b35e41",
   "metadata": {},
   "outputs": [],
   "source": [
    "X = data.loc[:, [0, \"0_0\"]].values\n",
    "Y = data.loc[:, 1].values"
   ]
  },
  {
   "cell_type": "code",
   "execution_count": 6,
   "id": "2aa4062d",
   "metadata": {},
   "outputs": [],
   "source": [
    "# all calculation is based on numpy array since it will do the element wise operation example multiplication\n",
    "def step_gradient(X, Y, learning_rate, m):\n",
    "    m_slope=np.zeros(len(X[0])) # final slope\n",
    "    for i in range(len(X)):\n",
    "        x = X[i] # no of columns based on ith row \n",
    "        y = Y[i]\n",
    "        for j in range(len(x)): # for each of jth column in ith row is needed to calculate for cost\n",
    "            # m * x is numpy array it will do the dot product n then sum is applied\n",
    "            # it a derivative w.r.t m\n",
    "            m_slope[j]+=(-2/len(X))*(y-sum(m*x))*x[j] \n",
    "    new_m=m-(learning_rate*m_slope) # final slope updatation \n",
    "    return new_m\n",
    "        \n",
    "    "
   ]
  },
  {
   "cell_type": "code",
   "execution_count": 7,
   "id": "a1151b32",
   "metadata": {},
   "outputs": [],
   "source": [
    "def cost(m, X, Y):\n",
    "    cost=0\n",
    "    for i in range(len(X)):\n",
    "        cost+=(1/len(X))*((Y[i]-sum(m*X[i]))**2)\n",
    "    print(cost)"
   ]
  },
  {
   "cell_type": "code",
   "execution_count": 8,
   "id": "9fc036e9",
   "metadata": {},
   "outputs": [],
   "source": [
    "def gd(X, Y, learning_rate, num_iterations):\n",
    "    m = np.zeros(len(X[0]))\n",
    "    for i in range(num_iterations):\n",
    "        m = step_gradient(X, Y, learning_rate, m)\n",
    "        print(\"itr= \", i, \"cost=\", end=' ')\n",
    "        cost(m, X, Y)\n",
    "    return m"
   ]
  },
  {
   "cell_type": "code",
   "execution_count": 9,
   "id": "f205ba29",
   "metadata": {},
   "outputs": [],
   "source": [
    "def run(X, Y):\n",
    "    learning_rate = 0.1\n",
    "    num_iterations = 10\n",
    "    # i need to add the c value here only for multivale variable, c we can make it contant so let it be 1\n",
    "    # so here c is taken care\n",
    "    X = np.append(X, np.ones(len(X)).reshape(-1, 1), axis = 1)\n",
    "    m = gd(X, Y, learning_rate, num_iterations)\n",
    "#     print(m, c)"
   ]
  },
  {
   "cell_type": "code",
   "execution_count": 10,
   "id": "e31efa5a",
   "metadata": {},
   "outputs": [
    {
     "name": "stdout",
     "output_type": "stream",
     "text": [
      "itr=  0 cost= 1.0662249334277954e+16\n",
      "itr=  1 cost= 2.160780893235847e+28\n",
      "itr=  2 cost= 4.378976632612543e+40\n",
      "itr=  3 cost= 8.874308546967383e+52\n",
      "itr=  4 cost= 1.7984419373298488e+65\n",
      "itr=  5 cost= 3.6446708888119825e+77\n",
      "itr=  6 cost= 7.386185570981373e+89\n",
      "itr=  7 cost= 1.4968631998143584e+102\n",
      "itr=  8 cost= 3.033500062280161e+114\n",
      "itr=  9 cost= 6.147604289420018e+126\n"
     ]
    }
   ],
   "source": [
    "m=run(X, Y)"
   ]
  },
  {
   "cell_type": "code",
   "execution_count": null,
   "id": "50735a15",
   "metadata": {},
   "outputs": [],
   "source": []
  }
 ],
 "metadata": {
  "kernelspec": {
   "display_name": "Python 3",
   "language": "python",
   "name": "python3"
  },
  "language_info": {
   "codemirror_mode": {
    "name": "ipython",
    "version": 3
   },
   "file_extension": ".py",
   "mimetype": "text/x-python",
   "name": "python",
   "nbconvert_exporter": "python",
   "pygments_lexer": "ipython3",
   "version": "3.8.8"
  }
 },
 "nbformat": 4,
 "nbformat_minor": 5
}
